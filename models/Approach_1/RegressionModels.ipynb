{
 "cells": [
  {
   "cell_type": "code",
   "execution_count": 2,
   "metadata": {},
   "outputs": [],
   "source": [
    "import pandas as pd\n",
    "#import matplotlib.pyplot as plt\n",
    "import string\n",
    "import re\n",
    "import nltk\n",
    "import numpy as np\n",
    "from nltk.corpus import stopwords\n",
    "from nltk.tokenize import RegexpTokenizer\n",
    "from sklearn.model_selection import train_test_split\n",
    "from sklearn.feature_extraction.text import TfidfVectorizer\n",
    "from sklearn.feature_extraction.text import CountVectorizer\n",
    "from sklearn.linear_model import LinearRegression\n",
    "from sklearn.linear_model import LogisticRegression\n",
    "from sklearn.naive_bayes import GaussianNB\n",
    "from sklearn.naive_bayes import MultinomialNB\n",
    "from sklearn.ensemble import RandomForestRegressor\n",
    "import sklearn.metrics\n",
    "#import lime\n",
    "import sklearn.ensemble\n",
    "from __future__ import print_function\n",
    "#from lime import lime_text\n",
    "from sklearn.pipeline import make_pipeline\n",
    "#from lime.lime_text import LimeTextExplainer\n",
    "#from lime.lime_tabular import LimeTabularExplainer\n",
    "#import imgkit\n",
    "#from datetime import datetime\n",
    "import warnings\n",
    "warnings.filterwarnings(\"ignore\")"
   ]
  },
  {
   "cell_type": "code",
   "execution_count": 3,
   "metadata": {
    "collapsed": false
   },
   "outputs": [
    {
     "name": "stderr",
     "output_type": "stream",
     "text": [
      "[nltk_data] Error loading stopwords: <urlopen error [SSL:\n",
      "[nltk_data]     CERTIFICATE_VERIFY_FAILED] certificate verify failed:\n",
      "[nltk_data]     unable to get local issuer certificate (_ssl.c:992)>\n",
      "[nltk_data] Error loading punkt: <urlopen error [SSL:\n",
      "[nltk_data]     CERTIFICATE_VERIFY_FAILED] certificate verify failed:\n",
      "[nltk_data]     unable to get local issuer certificate (_ssl.c:992)>\n"
     ]
    },
    {
     "data": {
      "text/plain": [
       "False"
      ]
     },
     "execution_count": 3,
     "metadata": {},
     "output_type": "execute_result"
    }
   ],
   "source": [
    "#download nltk stuff\n",
    "nltk.download('stopwords')\n",
    "nltk.download('punkt')"
   ]
  },
  {
   "cell_type": "code",
   "execution_count": 4,
   "metadata": {
    "collapsed": false
   },
   "outputs": [
    {
     "data": {
      "text/html": [
       "<div>\n",
       "<style scoped>\n",
       "    .dataframe tbody tr th:only-of-type {\n",
       "        vertical-align: middle;\n",
       "    }\n",
       "\n",
       "    .dataframe tbody tr th {\n",
       "        vertical-align: top;\n",
       "    }\n",
       "\n",
       "    .dataframe thead th {\n",
       "        text-align: right;\n",
       "    }\n",
       "</style>\n",
       "<table border=\"1\" class=\"dataframe\">\n",
       "  <thead>\n",
       "    <tr style=\"text-align: right;\">\n",
       "      <th></th>\n",
       "      <th>text</th>\n",
       "      <th>label</th>\n",
       "    </tr>\n",
       "  </thead>\n",
       "  <tbody>\n",
       "    <tr>\n",
       "      <th>0</th>\n",
       "      <td>excellent for beginners. the board is sturdy b...</td>\n",
       "      <td>0</td>\n",
       "    </tr>\n",
       "    <tr>\n",
       "      <th>1</th>\n",
       "      <td>i am a  year old man thinking i can skate agai...</td>\n",
       "      <td>0</td>\n",
       "    </tr>\n",
       "    <tr>\n",
       "      <th>2</th>\n",
       "      <td>i am a  year old man thinking i can skate agai...</td>\n",
       "      <td>0</td>\n",
       "    </tr>\n",
       "    <tr>\n",
       "      <th>3</th>\n",
       "      <td>muy buena</td>\n",
       "      <td>0</td>\n",
       "    </tr>\n",
       "    <tr>\n",
       "      <th>4</th>\n",
       "      <td>article conforme à la description. a l'air sol...</td>\n",
       "      <td>0</td>\n",
       "    </tr>\n",
       "    <tr>\n",
       "      <th>...</th>\n",
       "      <td>...</td>\n",
       "      <td>...</td>\n",
       "    </tr>\n",
       "    <tr>\n",
       "      <th>31508</th>\n",
       "      <td>my daughter loves this skateboard and goes out...</td>\n",
       "      <td>0</td>\n",
       "    </tr>\n",
       "    <tr>\n",
       "      <th>31509</th>\n",
       "      <td>i am a  year old man thinking i can skate agai...</td>\n",
       "      <td>0</td>\n",
       "    </tr>\n",
       "    <tr>\n",
       "      <th>31510</th>\n",
       "      <td>pt riding his trick scooter when he hit the cu...</td>\n",
       "      <td>1</td>\n",
       "    </tr>\n",
       "    <tr>\n",
       "      <th>31511</th>\n",
       "      <td>wir haben unserem enkel diesen roller geschenk...</td>\n",
       "      <td>0</td>\n",
       "    </tr>\n",
       "    <tr>\n",
       "      <th>31512</th>\n",
       "      <td>super easy to put together, my son loves it!</td>\n",
       "      <td>0</td>\n",
       "    </tr>\n",
       "  </tbody>\n",
       "</table>\n",
       "<p>31513 rows × 2 columns</p>\n",
       "</div>"
      ],
      "text/plain": [
       "                                                    text  label\n",
       "0      excellent for beginners. the board is sturdy b...      0\n",
       "1      i am a  year old man thinking i can skate agai...      0\n",
       "2      i am a  year old man thinking i can skate agai...      0\n",
       "3                                              muy buena      0\n",
       "4      article conforme à la description. a l'air sol...      0\n",
       "...                                                  ...    ...\n",
       "31508  my daughter loves this skateboard and goes out...      0\n",
       "31509  i am a  year old man thinking i can skate agai...      0\n",
       "31510  pt riding his trick scooter when he hit the cu...      1\n",
       "31511  wir haben unserem enkel diesen roller geschenk...      0\n",
       "31512       super easy to put together, my son loves it!      0\n",
       "\n",
       "[31513 rows x 2 columns]"
      ]
     },
     "metadata": {},
     "output_type": "display_data"
    }
   ],
   "source": [
    "df = pd.read_csv(\"/Users/harmyabhatt/TextMiningAndInjuryClassification/dataFiles/model_dataset.csv\")\n",
    "display(df)"
   ]
  },
  {
   "cell_type": "code",
   "execution_count": 5,
   "metadata": {
    "collapsed": false
   },
   "outputs": [
    {
     "name": "stdout",
     "output_type": "stream",
     "text": [
      "0    23723\n",
      "1     7790\n",
      "Name: label, dtype: int64\n"
     ]
    },
    {
     "data": {
      "text/html": [
       "<div>\n",
       "<style scoped>\n",
       "    .dataframe tbody tr th:only-of-type {\n",
       "        vertical-align: middle;\n",
       "    }\n",
       "\n",
       "    .dataframe tbody tr th {\n",
       "        vertical-align: top;\n",
       "    }\n",
       "\n",
       "    .dataframe thead th {\n",
       "        text-align: right;\n",
       "    }\n",
       "</style>\n",
       "<table border=\"1\" class=\"dataframe\">\n",
       "  <thead>\n",
       "    <tr style=\"text-align: right;\">\n",
       "      <th></th>\n",
       "      <th>text</th>\n",
       "      <th>label</th>\n",
       "    </tr>\n",
       "  </thead>\n",
       "  <tbody>\n",
       "    <tr>\n",
       "      <th>0</th>\n",
       "      <td>excellent for beginners. the board is sturdy b...</td>\n",
       "      <td>0</td>\n",
       "    </tr>\n",
       "    <tr>\n",
       "      <th>1</th>\n",
       "      <td>i am a  year old man thinking i can skate agai...</td>\n",
       "      <td>0</td>\n",
       "    </tr>\n",
       "    <tr>\n",
       "      <th>2</th>\n",
       "      <td>i am a  year old man thinking i can skate agai...</td>\n",
       "      <td>0</td>\n",
       "    </tr>\n",
       "    <tr>\n",
       "      <th>3</th>\n",
       "      <td>muy buena</td>\n",
       "      <td>0</td>\n",
       "    </tr>\n",
       "    <tr>\n",
       "      <th>4</th>\n",
       "      <td>article conforme à la description. a l'air sol...</td>\n",
       "      <td>0</td>\n",
       "    </tr>\n",
       "    <tr>\n",
       "      <th>...</th>\n",
       "      <td>...</td>\n",
       "      <td>...</td>\n",
       "    </tr>\n",
       "    <tr>\n",
       "      <th>31508</th>\n",
       "      <td>my daughter loves this skateboard and goes out...</td>\n",
       "      <td>0</td>\n",
       "    </tr>\n",
       "    <tr>\n",
       "      <th>31509</th>\n",
       "      <td>i am a  year old man thinking i can skate agai...</td>\n",
       "      <td>0</td>\n",
       "    </tr>\n",
       "    <tr>\n",
       "      <th>31510</th>\n",
       "      <td>pt riding his trick scooter when he hit the cu...</td>\n",
       "      <td>1</td>\n",
       "    </tr>\n",
       "    <tr>\n",
       "      <th>31511</th>\n",
       "      <td>wir haben unserem enkel diesen roller geschenk...</td>\n",
       "      <td>0</td>\n",
       "    </tr>\n",
       "    <tr>\n",
       "      <th>31512</th>\n",
       "      <td>super easy to put together, my son loves it!</td>\n",
       "      <td>0</td>\n",
       "    </tr>\n",
       "  </tbody>\n",
       "</table>\n",
       "<p>31513 rows × 2 columns</p>\n",
       "</div>"
      ],
      "text/plain": [
       "                                                    text  label\n",
       "0      excellent for beginners. the board is sturdy b...      0\n",
       "1      i am a  year old man thinking i can skate agai...      0\n",
       "2      i am a  year old man thinking i can skate agai...      0\n",
       "3                                              muy buena      0\n",
       "4      article conforme à la description. a l'air sol...      0\n",
       "...                                                  ...    ...\n",
       "31508  my daughter loves this skateboard and goes out...      0\n",
       "31509  i am a  year old man thinking i can skate agai...      0\n",
       "31510  pt riding his trick scooter when he hit the cu...      1\n",
       "31511  wir haben unserem enkel diesen roller geschenk...      0\n",
       "31512       super easy to put together, my son loves it!      0\n",
       "\n",
       "[31513 rows x 2 columns]"
      ]
     },
     "execution_count": 5,
     "metadata": {},
     "output_type": "execute_result"
    }
   ],
   "source": [
    "print(df['label'].value_counts())\n",
    "df = df.rename(columns={'Final Narrative': 'text', 'Event': 'label'})\n",
    "df['label'] = df['label'].replace({42: 'Fall on Same Level', 43:'Fall to Lower Level'})\n",
    "df"
   ]
  },
  {
   "cell_type": "code",
   "execution_count": 6,
   "metadata": {
    "collapsed": false
   },
   "outputs": [
    {
     "name": "stdout",
     "output_type": "stream",
     "text": [
      "1    7000\n",
      "0    7000\n",
      "Name: label, dtype: int64\n"
     ]
    },
    {
     "data": {
      "text/html": [
       "<div>\n",
       "<style scoped>\n",
       "    .dataframe tbody tr th:only-of-type {\n",
       "        vertical-align: middle;\n",
       "    }\n",
       "\n",
       "    .dataframe tbody tr th {\n",
       "        vertical-align: top;\n",
       "    }\n",
       "\n",
       "    .dataframe thead th {\n",
       "        text-align: right;\n",
       "    }\n",
       "</style>\n",
       "<table border=\"1\" class=\"dataframe\">\n",
       "  <thead>\n",
       "    <tr style=\"text-align: right;\">\n",
       "      <th></th>\n",
       "      <th>text</th>\n",
       "      <th>label</th>\n",
       "    </tr>\n",
       "  </thead>\n",
       "  <tbody>\n",
       "    <tr>\n",
       "      <th>13217</th>\n",
       "      <td>skateboarding when he fell forward onto outstr...</td>\n",
       "      <td>1</td>\n",
       "    </tr>\n",
       "    <tr>\n",
       "      <th>3748</th>\n",
       "      <td>i pulled this out of the box to check it out t...</td>\n",
       "      <td>0</td>\n",
       "    </tr>\n",
       "    <tr>\n",
       "      <th>1562</th>\n",
       "      <td>why rent when you can buy and once you ride yo...</td>\n",
       "      <td>0</td>\n",
       "    </tr>\n",
       "    <tr>\n",
       "      <th>1423</th>\n",
       "      <td>my four year old loves it</td>\n",
       "      <td>0</td>\n",
       "    </tr>\n",
       "    <tr>\n",
       "      <th>9200</th>\n",
       "      <td>was riding a scooter downhill at a park when h...</td>\n",
       "      <td>1</td>\n",
       "    </tr>\n",
       "    <tr>\n",
       "      <th>...</th>\n",
       "      <td>...</td>\n",
       "      <td>...</td>\n",
       "    </tr>\n",
       "    <tr>\n",
       "      <th>4628</th>\n",
       "      <td>nice</td>\n",
       "      <td>0</td>\n",
       "    </tr>\n",
       "    <tr>\n",
       "      <th>9800</th>\n",
       "      <td>presents with digit injury was lying prone on ...</td>\n",
       "      <td>1</td>\n",
       "    </tr>\n",
       "    <tr>\n",
       "      <th>11409</th>\n",
       "      <td>fell off a skateboard and landed on outstretch...</td>\n",
       "      <td>1</td>\n",
       "    </tr>\n",
       "    <tr>\n",
       "      <th>4617</th>\n",
       "      <td>der kinder roller ist sehr gut gebaut sehr sta...</td>\n",
       "      <td>0</td>\n",
       "    </tr>\n",
       "    <tr>\n",
       "      <th>3603</th>\n",
       "      <td>my daughter had this for a few years now and s...</td>\n",
       "      <td>0</td>\n",
       "    </tr>\n",
       "  </tbody>\n",
       "</table>\n",
       "<p>14000 rows × 2 columns</p>\n",
       "</div>"
      ],
      "text/plain": [
       "                                                    text  label\n",
       "13217  skateboarding when he fell forward onto outstr...      1\n",
       "3748   i pulled this out of the box to check it out t...      0\n",
       "1562   why rent when you can buy and once you ride yo...      0\n",
       "1423                          my four year old loves it       0\n",
       "9200   was riding a scooter downhill at a park when h...      1\n",
       "...                                                  ...    ...\n",
       "4628                                                nice      0\n",
       "9800   presents with digit injury was lying prone on ...      1\n",
       "11409  fell off a skateboard and landed on outstretch...      1\n",
       "4617   der kinder roller ist sehr gut gebaut sehr sta...      0\n",
       "3603   my daughter had this for a few years now and s...      0\n",
       "\n",
       "[14000 rows x 2 columns]"
      ]
     },
     "metadata": {},
     "output_type": "display_data"
    }
   ],
   "source": [
    "#making dataset and preprocessing\n",
    "dataset_text = list(df.text)\n",
    "dataset_labels = list(df.label)\n",
    "text = []\n",
    "labels = []\n",
    "dataset = pd.DataFrame()\n",
    "for i in range(0, len(dataset_text)):\n",
    "    t = str(dataset_text[i])\n",
    "    l = dataset_labels[i]\n",
    "\n",
    "    if 0 <= len(str(t).split(\" \")) <= 40:\n",
    "        words = str(t).split(\" \")\n",
    "        t = re.sub('lt', 'left', t)\n",
    "        t = re.sub('lwr', 'lower', t)\n",
    "        t = re.sub('rt', 'right', t)\n",
    "        t = re.sub('pt', ' ', t)\n",
    "        t = re.sub('c/o', ' ', t)\n",
    "        t = re.sub('dx', ' ', t)\n",
    "        t = re.sub(r'[^a-zA-Z ]+', ' ', t)\n",
    "        t = re.sub(' +', ' ', t)\n",
    "        text.append(t)\n",
    "        labels.append(l)\n",
    "\n",
    "dataset['text'] = text\n",
    "dataset['label'] = labels\n",
    "\n",
    "dataset = dataset.groupby('label', group_keys=False).apply(lambda x: x.sample(7000)).reset_index(drop=True)\n",
    "dataset = dataset.sample(frac=1)\n",
    "print(dataset['label'].value_counts())\n",
    "display(dataset)"
   ]
  },
  {
   "cell_type": "markdown",
   "metadata": {},
   "source": [
    "### Vectorizer For Model Training"
   ]
  },
  {
   "cell_type": "code",
   "execution_count": 7,
   "metadata": {
    "collapsed": false
   },
   "outputs": [],
   "source": [
    "# split the data into training and testing sets\n",
    "X_train, X_test, y_train, y_test = train_test_split(dataset[\"text\"], dataset[\"label\"], test_size=0.2, shuffle=False)\n",
    "\n",
    "# create bag-of-words with weights using tfid vectoriser\n",
    "# strip accents and remove stop words during vectorisation\n",
    "tf = TfidfVectorizer(max_features=10000, ngram_range=(1,2))\n",
    "cv = CountVectorizer(max_features=10000, ngram_range=(1,2))\n",
    "\n",
    "# transform and fit the training set with vectoriser\n",
    "X_train_tf = tf.fit_transform(X_train)\n",
    "# transform the test set with vectoriser\n",
    "x_test_tf = tf.transform(X_test)\n",
    "\n",
    "\n",
    "# # create logistic regression model\n",
    "# gnb = GaussianNB()\n",
    "# lreg = LinearRegression()\n",
    "# logreg = LogisticRegression(solver='newton-cg')\n",
    "# random_forest = RandomForestRegressor(n_estimators=100)\n",
    "# # train model on  vectorised training data\n",
    "# #model_linear = lreg.fit(X_train_tf, y_train)\n",
    "# #model_logistic = logreg.fit(X_train_tf, y_train)\n",
    "# #clf = MultinomialNB().fit(X_train_tf, y_train)\n",
    "# rf = random_forest.fit(X_train_tf, y_train)\n",
    "\n",
    "# # evaluate model performance on the test set\n",
    "# pred_rf = rf.predict(prediction)\n",
    "# #pred_linear = model_linear.predict(prediction)\n",
    "# pred_labels = []\n",
    "# for value in pred_rf:\n",
    "#     if value > 0.5:\n",
    "#         pred_labels.append(1)\n",
    "#     else:\n",
    "#         pred_labels.append(0)\n",
    "\n",
    "# #pred_logistic = model_logistic.predict(prediction)\n",
    "# #pred_naive = clf.predict(prediction)\n",
    "# #print(sklearn.metrics.accuracy_score(y_test, pred_logistic))\n",
    "# print(sklearn.metrics.classification_report(y_test, pred_labels, digits=5))"
   ]
  },
  {
   "cell_type": "markdown",
   "metadata": {},
   "source": [
    "### Linear Regression"
   ]
  },
  {
   "cell_type": "code",
   "execution_count": 8,
   "metadata": {},
   "outputs": [
    {
     "name": "stdout",
     "output_type": "stream",
     "text": [
      "              precision    recall  f1-score   support\n",
      "\n",
      "           0    0.79170   0.81272   0.80207      1431\n",
      "           1    0.79865   0.77648   0.78741      1369\n",
      "\n",
      "    accuracy                        0.79500      2800\n",
      "   macro avg    0.79517   0.79460   0.79474      2800\n",
      "weighted avg    0.79509   0.79500   0.79490      2800\n",
      "\n"
     ]
    }
   ],
   "source": [
    "lreg = LinearRegression()\n",
    "model_linear = lreg.fit(X_train_tf, y_train)\n",
    "pred_linear = model_linear.predict(x_test_tf)\n",
    "pred_labels = []\n",
    "for value in pred_linear:\n",
    "    if value > 0.5:\n",
    "        pred_labels.append(1)\n",
    "    else:\n",
    "        pred_labels.append(0)\n",
    "\n",
    "print(sklearn.metrics.classification_report(y_test, pred_labels, digits=5))"
   ]
  },
  {
   "cell_type": "markdown",
   "metadata": {},
   "source": [
    "### Logistic Regression"
   ]
  },
  {
   "cell_type": "code",
   "execution_count": 11,
   "metadata": {},
   "outputs": [
    {
     "name": "stdout",
     "output_type": "stream",
     "text": [
      "              precision    recall  f1-score   support\n",
      "\n",
      "           0    0.99860   0.99860   0.99860      1431\n",
      "           1    0.99854   0.99854   0.99854      1369\n",
      "\n",
      "    accuracy                        0.99857      2800\n",
      "   macro avg    0.99857   0.99857   0.99857      2800\n",
      "weighted avg    0.99857   0.99857   0.99857      2800\n",
      "\n"
     ]
    }
   ],
   "source": [
    "# logistic regression model\n",
    "\n",
    "logreg = LogisticRegression(solver='newton-cg')\n",
    "model_logistic = logreg.fit(X_train_tf, y_train)\n",
    "pred_logistic = model_logistic.predict(x_test_tf)\n",
    "pred_labels = []\n",
    "for value in pred_logistic:\n",
    "    if value > 0.5:\n",
    "        pred_labels.append(1)\n",
    "    else:\n",
    "        pred_labels.append(0)\n",
    "\n",
    "print(sklearn.metrics.classification_report(y_test, pred_labels, digits=5))"
   ]
  },
  {
   "cell_type": "markdown",
   "metadata": {},
   "source": [
    "### Naive-Bayes Model"
   ]
  },
  {
   "cell_type": "code",
   "execution_count": 12,
   "metadata": {},
   "outputs": [
    {
     "name": "stdout",
     "output_type": "stream",
     "text": [
      "              precision    recall  f1-score   support\n",
      "\n",
      "           0    1.00000   0.99371   0.99685      1431\n",
      "           1    0.99347   1.00000   0.99672      1369\n",
      "\n",
      "    accuracy                        0.99679      2800\n",
      "   macro avg    0.99673   0.99686   0.99678      2800\n",
      "weighted avg    0.99681   0.99679   0.99679      2800\n",
      "\n"
     ]
    }
   ],
   "source": [
    "#naive bayes model\n",
    "\n",
    "clf = MultinomialNB().fit(X_train_tf, y_train)\n",
    "pred_naive = clf.predict(x_test_tf)\n",
    "pred_labels = []\n",
    "for value in pred_naive:\n",
    "    if value > 0.5:\n",
    "        pred_labels.append(1)\n",
    "    else:\n",
    "        pred_labels.append(0)\n",
    "\n",
    "print(sklearn.metrics.classification_report(y_test, pred_labels, digits=5))"
   ]
  },
  {
   "cell_type": "markdown",
   "metadata": {},
   "source": [
    "### Random Forest Regressor"
   ]
  },
  {
   "cell_type": "code",
   "execution_count": 13,
   "metadata": {},
   "outputs": [
    {
     "name": "stdout",
     "output_type": "stream",
     "text": [
      "              precision    recall  f1-score   support\n",
      "\n",
      "           0    0.99718   0.98952   0.99334      1431\n",
      "           1    0.98913   0.99708   0.99309      1369\n",
      "\n",
      "    accuracy                        0.99321      2800\n",
      "   macro avg    0.99316   0.99330   0.99321      2800\n",
      "weighted avg    0.99325   0.99321   0.99321      2800\n",
      "\n"
     ]
    }
   ],
   "source": [
    "#random forest model\n",
    "\n",
    "\n",
    "random_forest = RandomForestRegressor(n_estimators=100)\n",
    "rf = random_forest.fit(X_train_tf, y_train)\n",
    "pred_rf = rf.predict(x_test_tf)\n",
    "pred_labels = []\n",
    "for value in pred_rf:\n",
    "    if value > 0.5:\n",
    "        pred_labels.append(1)\n",
    "    else:\n",
    "        pred_labels.append(0)\n",
    "\n",
    "print(sklearn.metrics.classification_report(y_test, pred_labels, digits=5))"
   ]
  }
 ],
 "metadata": {
  "kernelspec": {
   "display_name": "Python 3.11.0 64-bit",
   "language": "python",
   "name": "python3"
  },
  "language_info": {
   "codemirror_mode": {
    "name": "ipython",
    "version": 3
   },
   "file_extension": ".py",
   "mimetype": "text/x-python",
   "name": "python",
   "nbconvert_exporter": "python",
   "pygments_lexer": "ipython3",
   "version": "3.11.0"
  },
  "orig_nbformat": 4,
  "vscode": {
   "interpreter": {
    "hash": "aee8b7b246df8f9039afb4144a1f6fd8d2ca17a180786b69acc140d282b71a49"
   }
  }
 },
 "nbformat": 4,
 "nbformat_minor": 2
}
